{
 "cells": [
  {
   "cell_type": "code",
   "execution_count": 86,
   "id": "periodic-mother",
   "metadata": {},
   "outputs": [],
   "source": [
    "import pandas as pd\n",
    "import matplotlib.pyplot as plt\n",
    "from sklearn.model_selection import train_test_split\n",
    "from sklearn.model_selection import StratifiedShuffleSplit\n",
    "from sklearn.linear_model import LinearRegression\n",
    "from sklearn.ensemble import RandomForestRegressor\n",
    "import numpy as np\n",
    "%matplotlib inline"
   ]
  },
  {
   "cell_type": "code",
   "execution_count": 2,
   "id": "radical-africa",
   "metadata": {},
   "outputs": [],
   "source": [
    "df = pd.read_csv(\"London.csv\")\n",
    "pd.options.display.float_format = '{:20,.2f}'.format\n"
   ]
  },
  {
   "cell_type": "markdown",
   "id": "exterior-calendar",
   "metadata": {},
   "source": [
    "### Quick look at the dataset info"
   ]
  },
  {
   "cell_type": "code",
   "execution_count": 3,
   "id": "colonial-plenty",
   "metadata": {},
   "outputs": [
    {
     "data": {
      "text/html": [
       "<div>\n",
       "<style scoped>\n",
       "    .dataframe tbody tr th:only-of-type {\n",
       "        vertical-align: middle;\n",
       "    }\n",
       "\n",
       "    .dataframe tbody tr th {\n",
       "        vertical-align: top;\n",
       "    }\n",
       "\n",
       "    .dataframe thead th {\n",
       "        text-align: right;\n",
       "    }\n",
       "</style>\n",
       "<table border=\"1\" class=\"dataframe\">\n",
       "  <thead>\n",
       "    <tr style=\"text-align: right;\">\n",
       "      <th></th>\n",
       "      <th>Unnamed: 0</th>\n",
       "      <th>Property Name</th>\n",
       "      <th>Price</th>\n",
       "      <th>House Type</th>\n",
       "      <th>Area in sq ft</th>\n",
       "      <th>No. of Bedrooms</th>\n",
       "      <th>No. of Bathrooms</th>\n",
       "      <th>No. of Receptions</th>\n",
       "      <th>Location</th>\n",
       "      <th>City/County</th>\n",
       "      <th>Postal Code</th>\n",
       "    </tr>\n",
       "  </thead>\n",
       "  <tbody>\n",
       "    <tr>\n",
       "      <th>0</th>\n",
       "      <td>0</td>\n",
       "      <td>Queens Road</td>\n",
       "      <td>1675000</td>\n",
       "      <td>House</td>\n",
       "      <td>2716</td>\n",
       "      <td>5</td>\n",
       "      <td>5</td>\n",
       "      <td>5</td>\n",
       "      <td>Wimbledon</td>\n",
       "      <td>London</td>\n",
       "      <td>SW19 8NY</td>\n",
       "    </tr>\n",
       "    <tr>\n",
       "      <th>1</th>\n",
       "      <td>1</td>\n",
       "      <td>Seward Street</td>\n",
       "      <td>650000</td>\n",
       "      <td>Flat / Apartment</td>\n",
       "      <td>814</td>\n",
       "      <td>2</td>\n",
       "      <td>2</td>\n",
       "      <td>2</td>\n",
       "      <td>Clerkenwell</td>\n",
       "      <td>London</td>\n",
       "      <td>EC1V 3PA</td>\n",
       "    </tr>\n",
       "    <tr>\n",
       "      <th>2</th>\n",
       "      <td>2</td>\n",
       "      <td>Hotham Road</td>\n",
       "      <td>735000</td>\n",
       "      <td>Flat / Apartment</td>\n",
       "      <td>761</td>\n",
       "      <td>2</td>\n",
       "      <td>2</td>\n",
       "      <td>2</td>\n",
       "      <td>Putney</td>\n",
       "      <td>London</td>\n",
       "      <td>SW15 1QL</td>\n",
       "    </tr>\n",
       "    <tr>\n",
       "      <th>3</th>\n",
       "      <td>3</td>\n",
       "      <td>Festing Road</td>\n",
       "      <td>1765000</td>\n",
       "      <td>House</td>\n",
       "      <td>1986</td>\n",
       "      <td>4</td>\n",
       "      <td>4</td>\n",
       "      <td>4</td>\n",
       "      <td>Putney</td>\n",
       "      <td>London</td>\n",
       "      <td>SW15 1LP</td>\n",
       "    </tr>\n",
       "    <tr>\n",
       "      <th>4</th>\n",
       "      <td>4</td>\n",
       "      <td>Spencer Walk</td>\n",
       "      <td>675000</td>\n",
       "      <td>Flat / Apartment</td>\n",
       "      <td>700</td>\n",
       "      <td>2</td>\n",
       "      <td>2</td>\n",
       "      <td>2</td>\n",
       "      <td>Putney</td>\n",
       "      <td>London</td>\n",
       "      <td>SW15 1PL</td>\n",
       "    </tr>\n",
       "  </tbody>\n",
       "</table>\n",
       "</div>"
      ],
      "text/plain": [
       "   Unnamed: 0  Property Name    Price        House Type  Area in sq ft  \\\n",
       "0           0    Queens Road  1675000             House           2716   \n",
       "1           1  Seward Street   650000  Flat / Apartment            814   \n",
       "2           2    Hotham Road   735000  Flat / Apartment            761   \n",
       "3           3   Festing Road  1765000             House           1986   \n",
       "4           4   Spencer Walk   675000  Flat / Apartment            700   \n",
       "\n",
       "   No. of Bedrooms  No. of Bathrooms  No. of Receptions     Location  \\\n",
       "0                5                 5                  5    Wimbledon   \n",
       "1                2                 2                  2  Clerkenwell   \n",
       "2                2                 2                  2       Putney   \n",
       "3                4                 4                  4       Putney   \n",
       "4                2                 2                  2       Putney   \n",
       "\n",
       "  City/County Postal Code  \n",
       "0      London    SW19 8NY  \n",
       "1      London    EC1V 3PA  \n",
       "2      London    SW15 1QL  \n",
       "3      London    SW15 1LP  \n",
       "4      London    SW15 1PL  "
      ]
     },
     "execution_count": 3,
     "metadata": {},
     "output_type": "execute_result"
    }
   ],
   "source": [
    "df.head()"
   ]
  },
  {
   "cell_type": "code",
   "execution_count": 4,
   "id": "attended-covering",
   "metadata": {},
   "outputs": [
    {
     "name": "stdout",
     "output_type": "stream",
     "text": [
      "<class 'pandas.core.frame.DataFrame'>\n",
      "RangeIndex: 3480 entries, 0 to 3479\n",
      "Data columns (total 11 columns):\n",
      " #   Column             Non-Null Count  Dtype \n",
      "---  ------             --------------  ----- \n",
      " 0   Unnamed: 0         3480 non-null   int64 \n",
      " 1   Property Name      3480 non-null   object\n",
      " 2   Price              3480 non-null   int64 \n",
      " 3   House Type         3480 non-null   object\n",
      " 4   Area in sq ft      3480 non-null   int64 \n",
      " 5   No. of Bedrooms    3480 non-null   int64 \n",
      " 6   No. of Bathrooms   3480 non-null   int64 \n",
      " 7   No. of Receptions  3480 non-null   int64 \n",
      " 8   Location           2518 non-null   object\n",
      " 9   City/County        3480 non-null   object\n",
      " 10  Postal Code        3480 non-null   object\n",
      "dtypes: int64(6), object(5)\n",
      "memory usage: 299.2+ KB\n"
     ]
    }
   ],
   "source": [
    "df.info()"
   ]
  },
  {
   "cell_type": "code",
   "execution_count": 5,
   "id": "significant-passage",
   "metadata": {},
   "outputs": [
    {
     "data": {
      "text/html": [
       "<div>\n",
       "<style scoped>\n",
       "    .dataframe tbody tr th:only-of-type {\n",
       "        vertical-align: middle;\n",
       "    }\n",
       "\n",
       "    .dataframe tbody tr th {\n",
       "        vertical-align: top;\n",
       "    }\n",
       "\n",
       "    .dataframe thead th {\n",
       "        text-align: right;\n",
       "    }\n",
       "</style>\n",
       "<table border=\"1\" class=\"dataframe\">\n",
       "  <thead>\n",
       "    <tr style=\"text-align: right;\">\n",
       "      <th></th>\n",
       "      <th>Unnamed: 0</th>\n",
       "      <th>Price</th>\n",
       "      <th>Area in sq ft</th>\n",
       "      <th>No. of Bedrooms</th>\n",
       "      <th>No. of Bathrooms</th>\n",
       "      <th>No. of Receptions</th>\n",
       "    </tr>\n",
       "  </thead>\n",
       "  <tbody>\n",
       "    <tr>\n",
       "      <th>count</th>\n",
       "      <td>3,480.00</td>\n",
       "      <td>3,480.00</td>\n",
       "      <td>3,480.00</td>\n",
       "      <td>3,480.00</td>\n",
       "      <td>3,480.00</td>\n",
       "      <td>3,480.00</td>\n",
       "    </tr>\n",
       "    <tr>\n",
       "      <th>mean</th>\n",
       "      <td>1,739.50</td>\n",
       "      <td>1,864,172.54</td>\n",
       "      <td>1,712.97</td>\n",
       "      <td>3.10</td>\n",
       "      <td>3.10</td>\n",
       "      <td>3.10</td>\n",
       "    </tr>\n",
       "    <tr>\n",
       "      <th>std</th>\n",
       "      <td>1,004.73</td>\n",
       "      <td>2,267,282.96</td>\n",
       "      <td>1,364.26</td>\n",
       "      <td>1.52</td>\n",
       "      <td>1.52</td>\n",
       "      <td>1.52</td>\n",
       "    </tr>\n",
       "    <tr>\n",
       "      <th>min</th>\n",
       "      <td>0.00</td>\n",
       "      <td>180,000.00</td>\n",
       "      <td>274.00</td>\n",
       "      <td>0.00</td>\n",
       "      <td>0.00</td>\n",
       "      <td>0.00</td>\n",
       "    </tr>\n",
       "    <tr>\n",
       "      <th>25%</th>\n",
       "      <td>869.75</td>\n",
       "      <td>750,000.00</td>\n",
       "      <td>834.00</td>\n",
       "      <td>2.00</td>\n",
       "      <td>2.00</td>\n",
       "      <td>2.00</td>\n",
       "    </tr>\n",
       "    <tr>\n",
       "      <th>50%</th>\n",
       "      <td>1,739.50</td>\n",
       "      <td>1,220,000.00</td>\n",
       "      <td>1,310.00</td>\n",
       "      <td>3.00</td>\n",
       "      <td>3.00</td>\n",
       "      <td>3.00</td>\n",
       "    </tr>\n",
       "    <tr>\n",
       "      <th>75%</th>\n",
       "      <td>2,609.25</td>\n",
       "      <td>2,150,000.00</td>\n",
       "      <td>2,157.25</td>\n",
       "      <td>4.00</td>\n",
       "      <td>4.00</td>\n",
       "      <td>4.00</td>\n",
       "    </tr>\n",
       "    <tr>\n",
       "      <th>max</th>\n",
       "      <td>3,479.00</td>\n",
       "      <td>39,750,000.00</td>\n",
       "      <td>15,405.00</td>\n",
       "      <td>10.00</td>\n",
       "      <td>10.00</td>\n",
       "      <td>10.00</td>\n",
       "    </tr>\n",
       "  </tbody>\n",
       "</table>\n",
       "</div>"
      ],
      "text/plain": [
       "                Unnamed: 0                Price        Area in sq ft  \\\n",
       "count             3,480.00             3,480.00             3,480.00   \n",
       "mean              1,739.50         1,864,172.54             1,712.97   \n",
       "std               1,004.73         2,267,282.96             1,364.26   \n",
       "min                   0.00           180,000.00               274.00   \n",
       "25%                 869.75           750,000.00               834.00   \n",
       "50%               1,739.50         1,220,000.00             1,310.00   \n",
       "75%               2,609.25         2,150,000.00             2,157.25   \n",
       "max               3,479.00        39,750,000.00            15,405.00   \n",
       "\n",
       "           No. of Bedrooms     No. of Bathrooms    No. of Receptions  \n",
       "count             3,480.00             3,480.00             3,480.00  \n",
       "mean                  3.10                 3.10                 3.10  \n",
       "std                   1.52                 1.52                 1.52  \n",
       "min                   0.00                 0.00                 0.00  \n",
       "25%                   2.00                 2.00                 2.00  \n",
       "50%                   3.00                 3.00                 3.00  \n",
       "75%                   4.00                 4.00                 4.00  \n",
       "max                  10.00                10.00                10.00  "
      ]
     },
     "execution_count": 5,
     "metadata": {},
     "output_type": "execute_result"
    }
   ],
   "source": [
    "df.describe()"
   ]
  },
  {
   "cell_type": "markdown",
   "id": "specified-spelling",
   "metadata": {},
   "source": [
    "## Remove Bathrooms and Receptions\n",
    "The number of bathrooms and receptions is a copy of the number of bedrooms, we are dropping them"
   ]
  },
  {
   "cell_type": "code",
   "execution_count": 6,
   "id": "endangered-press",
   "metadata": {},
   "outputs": [
    {
     "data": {
      "text/html": [
       "<div>\n",
       "<style scoped>\n",
       "    .dataframe tbody tr th:only-of-type {\n",
       "        vertical-align: middle;\n",
       "    }\n",
       "\n",
       "    .dataframe tbody tr th {\n",
       "        vertical-align: top;\n",
       "    }\n",
       "\n",
       "    .dataframe thead th {\n",
       "        text-align: right;\n",
       "    }\n",
       "</style>\n",
       "<table border=\"1\" class=\"dataframe\">\n",
       "  <thead>\n",
       "    <tr style=\"text-align: right;\">\n",
       "      <th></th>\n",
       "      <th>Unnamed: 0</th>\n",
       "      <th>Property Name</th>\n",
       "      <th>Price</th>\n",
       "      <th>House Type</th>\n",
       "      <th>Area in sq ft</th>\n",
       "      <th>No. of Bedrooms</th>\n",
       "      <th>Location</th>\n",
       "      <th>City/County</th>\n",
       "      <th>Postal Code</th>\n",
       "    </tr>\n",
       "  </thead>\n",
       "  <tbody>\n",
       "    <tr>\n",
       "      <th>0</th>\n",
       "      <td>0</td>\n",
       "      <td>Queens Road</td>\n",
       "      <td>1675000</td>\n",
       "      <td>House</td>\n",
       "      <td>2716</td>\n",
       "      <td>5</td>\n",
       "      <td>Wimbledon</td>\n",
       "      <td>London</td>\n",
       "      <td>SW19 8NY</td>\n",
       "    </tr>\n",
       "    <tr>\n",
       "      <th>1</th>\n",
       "      <td>1</td>\n",
       "      <td>Seward Street</td>\n",
       "      <td>650000</td>\n",
       "      <td>Flat / Apartment</td>\n",
       "      <td>814</td>\n",
       "      <td>2</td>\n",
       "      <td>Clerkenwell</td>\n",
       "      <td>London</td>\n",
       "      <td>EC1V 3PA</td>\n",
       "    </tr>\n",
       "    <tr>\n",
       "      <th>2</th>\n",
       "      <td>2</td>\n",
       "      <td>Hotham Road</td>\n",
       "      <td>735000</td>\n",
       "      <td>Flat / Apartment</td>\n",
       "      <td>761</td>\n",
       "      <td>2</td>\n",
       "      <td>Putney</td>\n",
       "      <td>London</td>\n",
       "      <td>SW15 1QL</td>\n",
       "    </tr>\n",
       "    <tr>\n",
       "      <th>3</th>\n",
       "      <td>3</td>\n",
       "      <td>Festing Road</td>\n",
       "      <td>1765000</td>\n",
       "      <td>House</td>\n",
       "      <td>1986</td>\n",
       "      <td>4</td>\n",
       "      <td>Putney</td>\n",
       "      <td>London</td>\n",
       "      <td>SW15 1LP</td>\n",
       "    </tr>\n",
       "    <tr>\n",
       "      <th>4</th>\n",
       "      <td>4</td>\n",
       "      <td>Spencer Walk</td>\n",
       "      <td>675000</td>\n",
       "      <td>Flat / Apartment</td>\n",
       "      <td>700</td>\n",
       "      <td>2</td>\n",
       "      <td>Putney</td>\n",
       "      <td>London</td>\n",
       "      <td>SW15 1PL</td>\n",
       "    </tr>\n",
       "  </tbody>\n",
       "</table>\n",
       "</div>"
      ],
      "text/plain": [
       "   Unnamed: 0  Property Name    Price        House Type  Area in sq ft  \\\n",
       "0           0    Queens Road  1675000             House           2716   \n",
       "1           1  Seward Street   650000  Flat / Apartment            814   \n",
       "2           2    Hotham Road   735000  Flat / Apartment            761   \n",
       "3           3   Festing Road  1765000             House           1986   \n",
       "4           4   Spencer Walk   675000  Flat / Apartment            700   \n",
       "\n",
       "   No. of Bedrooms     Location City/County Postal Code  \n",
       "0                5    Wimbledon      London    SW19 8NY  \n",
       "1                2  Clerkenwell      London    EC1V 3PA  \n",
       "2                2       Putney      London    SW15 1QL  \n",
       "3                4       Putney      London    SW15 1LP  \n",
       "4                2       Putney      London    SW15 1PL  "
      ]
     },
     "execution_count": 6,
     "metadata": {},
     "output_type": "execute_result"
    }
   ],
   "source": [
    "df = df.drop('No. of Bathrooms',1)\n",
    "df = df.drop('No. of Receptions',1)\n",
    "df.head()"
   ]
  },
  {
   "cell_type": "code",
   "execution_count": 7,
   "id": "whole-factory",
   "metadata": {},
   "outputs": [
    {
     "data": {
      "text/plain": [
       "Putney              96\n",
       "Barnes              71\n",
       "Wandsworth          70\n",
       "Wimbledon           68\n",
       "Esher               64\n",
       "                    ..\n",
       "Ranelagh Gardens     1\n",
       "Swiss Cottage        1\n",
       "Fernshaw Road        1\n",
       " Waltham Abbey       1\n",
       "Lafone Street        1\n",
       "Name: Location, Length: 656, dtype: int64"
      ]
     },
     "execution_count": 7,
     "metadata": {},
     "output_type": "execute_result"
    }
   ],
   "source": [
    "df['Location'].value_counts()"
   ]
  },
  {
   "cell_type": "code",
   "execution_count": 8,
   "id": "constitutional-pasta",
   "metadata": {},
   "outputs": [
    {
     "data": {
      "text/plain": [
       "London        2972\n",
       "Surrey         262\n",
       "Middlesex       78\n",
       "Essex           62\n",
       "Twickenham      12\n",
       "Name: City/County, dtype: int64"
      ]
     },
     "execution_count": 8,
     "metadata": {},
     "output_type": "execute_result"
    }
   ],
   "source": [
    "df['City/County'].value_counts().head()"
   ]
  },
  {
   "cell_type": "markdown",
   "id": "diagnostic-toner",
   "metadata": {},
   "source": [
    "### Dropping Location City/County columns\n",
    "The Location and City/County columns are not consistent (sometimes postcode is reported and things like that)\n",
    "Plus the location information is going to be provided by the postcode"
   ]
  },
  {
   "cell_type": "code",
   "execution_count": 9,
   "id": "latest-applicant",
   "metadata": {},
   "outputs": [],
   "source": [
    "df = df.drop('City/County',1)"
   ]
  },
  {
   "cell_type": "code",
   "execution_count": 10,
   "id": "becoming-ethnic",
   "metadata": {},
   "outputs": [],
   "source": [
    "df = df.drop('Location',1)"
   ]
  },
  {
   "cell_type": "markdown",
   "id": "false-arkansas",
   "metadata": {},
   "source": [
    "### Dropping Property Name \n",
    "It doesn't contribute to the price prediction"
   ]
  },
  {
   "cell_type": "code",
   "execution_count": 11,
   "id": "subjective-witch",
   "metadata": {},
   "outputs": [],
   "source": [
    "df = df.drop('Property Name',1)"
   ]
  },
  {
   "cell_type": "code",
   "execution_count": 12,
   "id": "constant-stomach",
   "metadata": {},
   "outputs": [
    {
     "data": {
      "text/html": [
       "<div>\n",
       "<style scoped>\n",
       "    .dataframe tbody tr th:only-of-type {\n",
       "        vertical-align: middle;\n",
       "    }\n",
       "\n",
       "    .dataframe tbody tr th {\n",
       "        vertical-align: top;\n",
       "    }\n",
       "\n",
       "    .dataframe thead th {\n",
       "        text-align: right;\n",
       "    }\n",
       "</style>\n",
       "<table border=\"1\" class=\"dataframe\">\n",
       "  <thead>\n",
       "    <tr style=\"text-align: right;\">\n",
       "      <th></th>\n",
       "      <th>Unnamed: 0</th>\n",
       "      <th>Price</th>\n",
       "      <th>House Type</th>\n",
       "      <th>Area in sq ft</th>\n",
       "      <th>No. of Bedrooms</th>\n",
       "      <th>Postal Code</th>\n",
       "    </tr>\n",
       "  </thead>\n",
       "  <tbody>\n",
       "    <tr>\n",
       "      <th>0</th>\n",
       "      <td>0</td>\n",
       "      <td>1675000</td>\n",
       "      <td>House</td>\n",
       "      <td>2716</td>\n",
       "      <td>5</td>\n",
       "      <td>SW19 8NY</td>\n",
       "    </tr>\n",
       "    <tr>\n",
       "      <th>1</th>\n",
       "      <td>1</td>\n",
       "      <td>650000</td>\n",
       "      <td>Flat / Apartment</td>\n",
       "      <td>814</td>\n",
       "      <td>2</td>\n",
       "      <td>EC1V 3PA</td>\n",
       "    </tr>\n",
       "    <tr>\n",
       "      <th>2</th>\n",
       "      <td>2</td>\n",
       "      <td>735000</td>\n",
       "      <td>Flat / Apartment</td>\n",
       "      <td>761</td>\n",
       "      <td>2</td>\n",
       "      <td>SW15 1QL</td>\n",
       "    </tr>\n",
       "    <tr>\n",
       "      <th>3</th>\n",
       "      <td>3</td>\n",
       "      <td>1765000</td>\n",
       "      <td>House</td>\n",
       "      <td>1986</td>\n",
       "      <td>4</td>\n",
       "      <td>SW15 1LP</td>\n",
       "    </tr>\n",
       "    <tr>\n",
       "      <th>4</th>\n",
       "      <td>4</td>\n",
       "      <td>675000</td>\n",
       "      <td>Flat / Apartment</td>\n",
       "      <td>700</td>\n",
       "      <td>2</td>\n",
       "      <td>SW15 1PL</td>\n",
       "    </tr>\n",
       "  </tbody>\n",
       "</table>\n",
       "</div>"
      ],
      "text/plain": [
       "   Unnamed: 0    Price        House Type  Area in sq ft  No. of Bedrooms  \\\n",
       "0           0  1675000             House           2716                5   \n",
       "1           1   650000  Flat / Apartment            814                2   \n",
       "2           2   735000  Flat / Apartment            761                2   \n",
       "3           3  1765000             House           1986                4   \n",
       "4           4   675000  Flat / Apartment            700                2   \n",
       "\n",
       "  Postal Code  \n",
       "0    SW19 8NY  \n",
       "1    EC1V 3PA  \n",
       "2    SW15 1QL  \n",
       "3    SW15 1LP  \n",
       "4    SW15 1PL  "
      ]
     },
     "execution_count": 12,
     "metadata": {},
     "output_type": "execute_result"
    }
   ],
   "source": [
    "df.head()"
   ]
  },
  {
   "cell_type": "code",
   "execution_count": 13,
   "id": "amino-charter",
   "metadata": {},
   "outputs": [
    {
     "data": {
      "text/html": [
       "<div>\n",
       "<style scoped>\n",
       "    .dataframe tbody tr th:only-of-type {\n",
       "        vertical-align: middle;\n",
       "    }\n",
       "\n",
       "    .dataframe tbody tr th {\n",
       "        vertical-align: top;\n",
       "    }\n",
       "\n",
       "    .dataframe thead th {\n",
       "        text-align: right;\n",
       "    }\n",
       "</style>\n",
       "<table border=\"1\" class=\"dataframe\">\n",
       "  <thead>\n",
       "    <tr style=\"text-align: right;\">\n",
       "      <th></th>\n",
       "      <th>Unnamed: 0</th>\n",
       "      <th>Price</th>\n",
       "      <th>Area in sq ft</th>\n",
       "      <th>No. of Bedrooms</th>\n",
       "    </tr>\n",
       "  </thead>\n",
       "  <tbody>\n",
       "    <tr>\n",
       "      <th>count</th>\n",
       "      <td>3,480.00</td>\n",
       "      <td>3,480.00</td>\n",
       "      <td>3,480.00</td>\n",
       "      <td>3,480.00</td>\n",
       "    </tr>\n",
       "    <tr>\n",
       "      <th>mean</th>\n",
       "      <td>1,739.50</td>\n",
       "      <td>1,864,172.54</td>\n",
       "      <td>1,712.97</td>\n",
       "      <td>3.10</td>\n",
       "    </tr>\n",
       "    <tr>\n",
       "      <th>std</th>\n",
       "      <td>1,004.73</td>\n",
       "      <td>2,267,282.96</td>\n",
       "      <td>1,364.26</td>\n",
       "      <td>1.52</td>\n",
       "    </tr>\n",
       "    <tr>\n",
       "      <th>min</th>\n",
       "      <td>0.00</td>\n",
       "      <td>180,000.00</td>\n",
       "      <td>274.00</td>\n",
       "      <td>0.00</td>\n",
       "    </tr>\n",
       "    <tr>\n",
       "      <th>25%</th>\n",
       "      <td>869.75</td>\n",
       "      <td>750,000.00</td>\n",
       "      <td>834.00</td>\n",
       "      <td>2.00</td>\n",
       "    </tr>\n",
       "    <tr>\n",
       "      <th>50%</th>\n",
       "      <td>1,739.50</td>\n",
       "      <td>1,220,000.00</td>\n",
       "      <td>1,310.00</td>\n",
       "      <td>3.00</td>\n",
       "    </tr>\n",
       "    <tr>\n",
       "      <th>75%</th>\n",
       "      <td>2,609.25</td>\n",
       "      <td>2,150,000.00</td>\n",
       "      <td>2,157.25</td>\n",
       "      <td>4.00</td>\n",
       "    </tr>\n",
       "    <tr>\n",
       "      <th>max</th>\n",
       "      <td>3,479.00</td>\n",
       "      <td>39,750,000.00</td>\n",
       "      <td>15,405.00</td>\n",
       "      <td>10.00</td>\n",
       "    </tr>\n",
       "  </tbody>\n",
       "</table>\n",
       "</div>"
      ],
      "text/plain": [
       "                Unnamed: 0                Price        Area in sq ft  \\\n",
       "count             3,480.00             3,480.00             3,480.00   \n",
       "mean              1,739.50         1,864,172.54             1,712.97   \n",
       "std               1,004.73         2,267,282.96             1,364.26   \n",
       "min                   0.00           180,000.00               274.00   \n",
       "25%                 869.75           750,000.00               834.00   \n",
       "50%               1,739.50         1,220,000.00             1,310.00   \n",
       "75%               2,609.25         2,150,000.00             2,157.25   \n",
       "max               3,479.00        39,750,000.00            15,405.00   \n",
       "\n",
       "           No. of Bedrooms  \n",
       "count             3,480.00  \n",
       "mean                  3.10  \n",
       "std                   1.52  \n",
       "min                   0.00  \n",
       "25%                   2.00  \n",
       "50%                   3.00  \n",
       "75%                   4.00  \n",
       "max                  10.00  "
      ]
     },
     "execution_count": 13,
     "metadata": {},
     "output_type": "execute_result"
    }
   ],
   "source": [
    "df.describe()"
   ]
  },
  {
   "cell_type": "markdown",
   "id": "virgin-turkish",
   "metadata": {},
   "source": [
    "### Modifying postcode \n",
    "The last two chars of the postcode represent the unit and it is too granular. We are going to loose them to represent the subdistrict only"
   ]
  },
  {
   "cell_type": "code",
   "execution_count": 14,
   "id": "subjective-payment",
   "metadata": {},
   "outputs": [],
   "source": [
    "df = df[df['Postal Code'].str.contains(\" \")]"
   ]
  },
  {
   "cell_type": "code",
   "execution_count": 15,
   "id": "necessary-portrait",
   "metadata": {},
   "outputs": [
    {
     "name": "stdout",
     "output_type": "stream",
     "text": [
      "<class 'pandas.core.frame.DataFrame'>\n",
      "Int64Index: 3478 entries, 0 to 3479\n",
      "Data columns (total 5 columns):\n",
      " #   Column           Non-Null Count  Dtype \n",
      "---  ------           --------------  ----- \n",
      " 0   Price            3478 non-null   int64 \n",
      " 1   House Type       3478 non-null   object\n",
      " 2   Area in sq ft    3478 non-null   int64 \n",
      " 3   No. of Bedrooms  3478 non-null   int64 \n",
      " 4   Postal Code      3478 non-null   object\n",
      "dtypes: int64(3), object(2)\n",
      "memory usage: 163.0+ KB\n"
     ]
    }
   ],
   "source": [
    "df = df.drop('Unnamed: 0',1)\n",
    "df.info()"
   ]
  },
  {
   "cell_type": "code",
   "execution_count": 16,
   "id": "weekly-edinburgh",
   "metadata": {},
   "outputs": [
    {
     "data": {
      "text/plain": [
       "array([[<AxesSubplot:title={'center':'Price'}>,\n",
       "        <AxesSubplot:title={'center':'Area in sq ft'}>],\n",
       "       [<AxesSubplot:title={'center':'No. of Bedrooms'}>, <AxesSubplot:>]],\n",
       "      dtype=object)"
      ]
     },
     "execution_count": 16,
     "metadata": {},
     "output_type": "execute_result"
    },
    {
     "data": {
      "image/png": "[encoded data removed]",
      "text/plain": [
       "<Figure size 1440x1080 with 4 Axes>"
      ]
     },
     "metadata": {
      "needs_background": "light"
     },
     "output_type": "display_data"
    }
   ],
   "source": [
    "df.hist(bins=15,figsize=(20,15))"
   ]
  },
  {
   "cell_type": "code",
   "execution_count": 17,
   "id": "bronze-plain",
   "metadata": {
    "scrolled": true
   },
   "outputs": [
    {
     "data": {
      "text/plain": [
       "<AxesSubplot:>"
      ]
     },
     "execution_count": 17,
     "metadata": {},
     "output_type": "execute_result"
    },
    {
     "data": {
      "image/png": "[encoded data removed]",
      "text/plain": [
       "<Figure size 432x288 with 1 Axes>"
      ]
     },
     "metadata": {
      "needs_background": "light"
     },
     "output_type": "display_data"
    }
   ],
   "source": [
    "df['House Type'].value_counts().plot.bar()"
   ]
  },
  {
   "cell_type": "code",
   "execution_count": 18,
   "id": "stunning-broadcast",
   "metadata": {},
   "outputs": [
    {
     "data": {
      "text/html": [
       "<div>\n",
       "<style scoped>\n",
       "    .dataframe tbody tr th:only-of-type {\n",
       "        vertical-align: middle;\n",
       "    }\n",
       "\n",
       "    .dataframe tbody tr th {\n",
       "        vertical-align: top;\n",
       "    }\n",
       "\n",
       "    .dataframe thead th {\n",
       "        text-align: right;\n",
       "    }\n",
       "</style>\n",
       "<table border=\"1\" class=\"dataframe\">\n",
       "  <thead>\n",
       "    <tr style=\"text-align: right;\">\n",
       "      <th></th>\n",
       "      <th>Price</th>\n",
       "      <th>Area in sq ft</th>\n",
       "      <th>No. of Bedrooms</th>\n",
       "    </tr>\n",
       "  </thead>\n",
       "  <tbody>\n",
       "    <tr>\n",
       "      <th>Price</th>\n",
       "      <td>1.00</td>\n",
       "      <td>0.66</td>\n",
       "      <td>0.43</td>\n",
       "    </tr>\n",
       "    <tr>\n",
       "      <th>Area in sq ft</th>\n",
       "      <td>0.66</td>\n",
       "      <td>1.00</td>\n",
       "      <td>0.78</td>\n",
       "    </tr>\n",
       "    <tr>\n",
       "      <th>No. of Bedrooms</th>\n",
       "      <td>0.43</td>\n",
       "      <td>0.78</td>\n",
       "      <td>1.00</td>\n",
       "    </tr>\n",
       "  </tbody>\n",
       "</table>\n",
       "</div>"
      ],
      "text/plain": [
       "                               Price        Area in sq ft      No. of Bedrooms\n",
       "Price                           1.00                 0.66                 0.43\n",
       "Area in sq ft                   0.66                 1.00                 0.78\n",
       "No. of Bedrooms                 0.43                 0.78                 1.00"
      ]
     },
     "execution_count": 18,
     "metadata": {},
     "output_type": "execute_result"
    }
   ],
   "source": [
    "df.corr()"
   ]
  },
  {
   "cell_type": "code",
   "execution_count": 19,
   "id": "answering-consumption",
   "metadata": {},
   "outputs": [],
   "source": [
    "df['Postal Code Norm'] = df['Postal Code'].transform(lambda x: x[:-2].replace(\" \",''))"
   ]
  },
  {
   "cell_type": "code",
   "execution_count": 21,
   "id": "metallic-unemployment",
   "metadata": {},
   "outputs": [],
   "source": [
    "df['House Type'] = pd.Categorical(df['House Type'])"
   ]
  },
  {
   "cell_type": "code",
   "execution_count": 22,
   "id": "primary-stand",
   "metadata": {},
   "outputs": [],
   "source": [
    "df[\"Postal Code Norm\"] = pd.Categorical(df['Postal Code Norm'])"
   ]
  },
  {
   "cell_type": "code",
   "execution_count": 34,
   "id": "civil-insert",
   "metadata": {},
   "outputs": [],
   "source": [
    "df['Postcode cat'] = df[\"Postal Code Norm\"].cat.codes\n",
    "df['Type cat'] = df['House Type'].cat.codes"
   ]
  },
  {
   "cell_type": "code",
   "execution_count": 32,
   "id": "correct-enemy",
   "metadata": {},
   "outputs": [
    {
     "name": "stdout",
     "output_type": "stream",
     "text": [
      "<class 'pandas.core.frame.DataFrame'>\n",
      "Int64Index: 3478 entries, 0 to 3479\n",
      "Data columns (total 7 columns):\n",
      " #   Column            Non-Null Count  Dtype   \n",
      "---  ------            --------------  -----   \n",
      " 0   Price             3478 non-null   int64   \n",
      " 1   House Type        3478 non-null   category\n",
      " 2   Area in sq ft     3478 non-null   int64   \n",
      " 3   No. of Bedrooms   3478 non-null   int64   \n",
      " 4   Postal Code       3478 non-null   object  \n",
      " 5   Postal Code Norm  3478 non-null   category\n",
      " 6   Postcode cat      3478 non-null   int16   \n",
      "dtypes: category(2), int16(1), int64(3), object(1)\n",
      "memory usage: 172.9+ KB\n"
     ]
    }
   ],
   "source": [
    "df.info()"
   ]
  },
  {
   "cell_type": "code",
   "execution_count": 36,
   "id": "radical-daughter",
   "metadata": {},
   "outputs": [
    {
     "data": {
      "text/plain": [
       "Price                             1.00\n",
       "Area in sq ft                     0.66\n",
       "No. of Bedrooms                   0.43\n",
       "Postcode cat                      0.18\n",
       "Type cat                          0.18\n",
       "Name: Price, dtype: float64"
      ]
     },
     "execution_count": 36,
     "metadata": {},
     "output_type": "execute_result"
    }
   ],
   "source": [
    "df.corr()['Price']"
   ]
  },
  {
   "cell_type": "code",
   "execution_count": 65,
   "id": "stable-barcelona",
   "metadata": {},
   "outputs": [],
   "source": [
    "df['price_cat'] = pd.cut(df['Price'],bins=[0,200000,400000,800000,1200000,np.inf],labels=[1,2,3,4,5])\n",
    "df['area_cat'] = pd.cut(df['Area in sq ft'],bins=[0,1000,1500,2500,4000,np.inf],labels=[1,2,3,4,5])"
   ]
  },
  {
   "cell_type": "code",
   "execution_count": 43,
   "id": "concrete-snapshot",
   "metadata": {},
   "outputs": [
    {
     "data": {
      "text/html": [
       "<div>\n",
       "<style scoped>\n",
       "    .dataframe tbody tr th:only-of-type {\n",
       "        vertical-align: middle;\n",
       "    }\n",
       "\n",
       "    .dataframe tbody tr th {\n",
       "        vertical-align: top;\n",
       "    }\n",
       "\n",
       "    .dataframe thead th {\n",
       "        text-align: right;\n",
       "    }\n",
       "</style>\n",
       "<table border=\"1\" class=\"dataframe\">\n",
       "  <thead>\n",
       "    <tr style=\"text-align: right;\">\n",
       "      <th></th>\n",
       "      <th>Price</th>\n",
       "      <th>House Type</th>\n",
       "      <th>Area in sq ft</th>\n",
       "      <th>No. of Bedrooms</th>\n",
       "      <th>Postal Code</th>\n",
       "      <th>Postal Code Norm</th>\n",
       "      <th>Postcode cat</th>\n",
       "      <th>Type cat</th>\n",
       "      <th>price_cat</th>\n",
       "      <th>area_cat</th>\n",
       "    </tr>\n",
       "  </thead>\n",
       "  <tbody>\n",
       "    <tr>\n",
       "      <th>0</th>\n",
       "      <td>1675000</td>\n",
       "      <td>House</td>\n",
       "      <td>2716</td>\n",
       "      <td>5</td>\n",
       "      <td>SW19 8NY</td>\n",
       "      <td>SW198</td>\n",
       "      <td>258</td>\n",
       "      <td>3</td>\n",
       "      <td>5</td>\n",
       "      <td>5</td>\n",
       "    </tr>\n",
       "    <tr>\n",
       "      <th>1</th>\n",
       "      <td>650000</td>\n",
       "      <td>Flat / Apartment</td>\n",
       "      <td>814</td>\n",
       "      <td>2</td>\n",
       "      <td>EC1V 3PA</td>\n",
       "      <td>EC1V3</td>\n",
       "      <td>58</td>\n",
       "      <td>2</td>\n",
       "      <td>3</td>\n",
       "      <td>3</td>\n",
       "    </tr>\n",
       "    <tr>\n",
       "      <th>2</th>\n",
       "      <td>735000</td>\n",
       "      <td>Flat / Apartment</td>\n",
       "      <td>761</td>\n",
       "      <td>2</td>\n",
       "      <td>SW15 1QL</td>\n",
       "      <td>SW151</td>\n",
       "      <td>232</td>\n",
       "      <td>2</td>\n",
       "      <td>3</td>\n",
       "      <td>2</td>\n",
       "    </tr>\n",
       "    <tr>\n",
       "      <th>3</th>\n",
       "      <td>1765000</td>\n",
       "      <td>House</td>\n",
       "      <td>1986</td>\n",
       "      <td>4</td>\n",
       "      <td>SW15 1LP</td>\n",
       "      <td>SW151</td>\n",
       "      <td>232</td>\n",
       "      <td>3</td>\n",
       "      <td>5</td>\n",
       "      <td>5</td>\n",
       "    </tr>\n",
       "    <tr>\n",
       "      <th>4</th>\n",
       "      <td>675000</td>\n",
       "      <td>Flat / Apartment</td>\n",
       "      <td>700</td>\n",
       "      <td>2</td>\n",
       "      <td>SW15 1PL</td>\n",
       "      <td>SW151</td>\n",
       "      <td>232</td>\n",
       "      <td>2</td>\n",
       "      <td>3</td>\n",
       "      <td>2</td>\n",
       "    </tr>\n",
       "  </tbody>\n",
       "</table>\n",
       "</div>"
      ],
      "text/plain": [
       "     Price        House Type  Area in sq ft  No. of Bedrooms Postal Code  \\\n",
       "0  1675000             House           2716                5    SW19 8NY   \n",
       "1   650000  Flat / Apartment            814                2    EC1V 3PA   \n",
       "2   735000  Flat / Apartment            761                2    SW15 1QL   \n",
       "3  1765000             House           1986                4    SW15 1LP   \n",
       "4   675000  Flat / Apartment            700                2    SW15 1PL   \n",
       "\n",
       "  Postal Code Norm  Postcode cat  Type cat price_cat area_cat  \n",
       "0            SW198           258         3         5        5  \n",
       "1            EC1V3            58         2         3        3  \n",
       "2            SW151           232         2         3        2  \n",
       "3            SW151           232         3         5        5  \n",
       "4            SW151           232         2         3        2  "
      ]
     },
     "execution_count": 43,
     "metadata": {},
     "output_type": "execute_result"
    }
   ],
   "source": [
    "df.head()"
   ]
  },
  {
   "cell_type": "code",
   "execution_count": 45,
   "id": "threatened-shore",
   "metadata": {},
   "outputs": [],
   "source": [
    "split = StratifiedShuffleSplit(n_splits=1,test_size=0.2)"
   ]
  },
  {
   "cell_type": "code",
   "execution_count": 70,
   "id": "secondary-fortune",
   "metadata": {},
   "outputs": [],
   "source": [
    "for train,test in split.split(df,df['area_cat']):\n",
    "    train_set_strat = df.iloc[train]\n",
    "    test_set_strat = df.iloc[test]\n"
   ]
  },
  {
   "cell_type": "code",
   "execution_count": 80,
   "id": "pleased-brazilian",
   "metadata": {},
   "outputs": [],
   "source": [
    "X_train = train_set_strat[['Type cat','Postcode cat','No. of Bedrooms','Area in sq ft']]\n",
    "Y_train = train_set_strat['Price']\n",
    "X_test = test_set_strat[['Type cat','Postcode cat','No. of Bedrooms','Area in sq ft']]\n",
    "Y_test = test_set_strat['Price']"
   ]
  },
  {
   "cell_type": "code",
   "execution_count": 79,
   "id": "relative-combination",
   "metadata": {},
   "outputs": [
    {
     "data": {
      "text/plain": [
       "1    251\n",
       "3    177\n",
       "2    144\n",
       "4     87\n",
       "5     37\n",
       "Name: area_cat, dtype: int64"
      ]
     },
     "execution_count": 79,
     "metadata": {},
     "output_type": "execute_result"
    }
   ],
   "source": []
  },
  {
   "cell_type": "code",
   "execution_count": 87,
   "id": "fundamental-patent",
   "metadata": {},
   "outputs": [],
   "source": [
    "model = RandomForestRegressor()"
   ]
  },
  {
   "cell_type": "code",
   "execution_count": 88,
   "id": "welsh-missouri",
   "metadata": {},
   "outputs": [
    {
     "data": {
      "text/plain": [
       "RandomForestRegressor()"
      ]
     },
     "execution_count": 88,
     "metadata": {},
     "output_type": "execute_result"
    }
   ],
   "source": [
    "model.fit(X_train,Y_train)"
   ]
  },
  {
   "cell_type": "code",
   "execution_count": 89,
   "id": "sound-sequence",
   "metadata": {},
   "outputs": [
    {
     "data": {
      "text/plain": [
       "0.6434598604572024"
      ]
     },
     "execution_count": 89,
     "metadata": {},
     "output_type": "execute_result"
    }
   ],
   "source": [
    "model.score(X_test,Y_test)"
   ]
  },
  {
   "cell_type": "code",
   "execution_count": 104,
   "id": "later-fleece",
   "metadata": {},
   "outputs": [
    {
     "data": {
      "text/plain": [
       "array([1245800.])"
      ]
     },
     "execution_count": 104,
     "metadata": {},
     "output_type": "execute_result"
    }
   ],
   "source": [
    "model.predict([[3,5,2,1200]])"
   ]
  },
  {
   "cell_type": "code",
   "execution_count": null,
   "id": "collaborative-jewelry",
   "metadata": {},
   "outputs": [],
   "source": []
  }
 ],
 "metadata": {
  "kernelspec": {
   "display_name": "Python 3",
   "language": "python",
   "name": "python3"
  },
  "language_info": {
   "codemirror_mode": {
    "name": "ipython",
    "version": 3
   },
   "file_extension": ".py",
   "mimetype": "text/x-python",
   "name": "python",
   "nbconvert_exporter": "python",
   "pygments_lexer": "ipython3",
   "version": "3.8.5"
  }
 },
 "nbformat": 4,
 "nbformat_minor": 5
}
