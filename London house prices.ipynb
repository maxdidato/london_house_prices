{
 "cells": [
  {
   "cell_type": "code",
   "execution_count": 1,
   "id": "periodic-mother",
   "metadata": {},
   "outputs": [],
   "source": [
    "import pandas as pd\n",
    "import matplotlib.pyplot as plt\n",
    "from sklearn.model_selection import train_test_split\n",
    "from sklearn.metrics import mean_squared_error\n",
    "from sklearn.linear_model import LinearRegression\n",
    "from sklearn.linear_model import Lasso\n",
    "from sklearn.linear_model import Ridge\n",
    "from sklearn.svm import SVR\n",
    "from sklearn.model_selection import GridSearchCV\n",
    "from sklearn.ensemble import RandomForestRegressor\n",
    "import sklearn\n",
    "from sklearn.model_selection import cross_val_score\n",
    "import numpy as np\n",
    "%matplotlib inline"
   ]
  },
  {
   "cell_type": "code",
   "execution_count": 2,
   "id": "radical-africa",
   "metadata": {},
   "outputs": [],
   "source": [
    "df = pd.read_csv(\"London.csv\")\n",
    "pd.options.display.float_format = '{:20,.2f}'.format\n"
   ]
  },
  {
   "cell_type": "markdown",
   "id": "exterior-calendar",
   "metadata": {},
   "source": [
    "### Quick look at the dataset info"
   ]
  },
  {
   "cell_type": "code",
   "execution_count": 3,
   "id": "colonial-plenty",
   "metadata": {},
   "outputs": [
    {
     "data": {
      "text/plain": "   Unnamed: 0  Property Name    Price        House Type  Area in sq ft  \\\n0           0    Queens Road  1675000             House           2716   \n1           1  Seward Street   650000  Flat / Apartment            814   \n2           2    Hotham Road   735000  Flat / Apartment            761   \n3           3   Festing Road  1765000             House           1986   \n4           4   Spencer Walk   675000  Flat / Apartment            700   \n\n   No. of Bedrooms  No. of Bathrooms  No. of Receptions     Location  \\\n0                5                 5                  5    Wimbledon   \n1                2                 2                  2  Clerkenwell   \n2                2                 2                  2       Putney   \n3                4                 4                  4       Putney   \n4                2                 2                  2       Putney   \n\n  City/County Postal Code  \n0      London    SW19 8NY  \n1      London    EC1V 3PA  \n2      London    SW15 1QL  \n3      London    SW15 1LP  \n4      London    SW15 1PL  ",
      "text/html": "<div>\n<style scoped>\n    .dataframe tbody tr th:only-of-type {\n        vertical-align: middle;\n    }\n\n    .dataframe tbody tr th {\n        vertical-align: top;\n    }\n\n    .dataframe thead th {\n        text-align: right;\n    }\n</style>\n<table border=\"1\" class=\"dataframe\">\n  <thead>\n    <tr style=\"text-align: right;\">\n      <th></th>\n      <th>Unnamed: 0</th>\n      <th>Property Name</th>\n      <th>Price</th>\n      <th>House Type</th>\n      <th>Area in sq ft</th>\n      <th>No. of Bedrooms</th>\n      <th>No. of Bathrooms</th>\n      <th>No. of Receptions</th>\n      <th>Location</th>\n      <th>City/County</th>\n      <th>Postal Code</th>\n    </tr>\n  </thead>\n  <tbody>\n    <tr>\n      <th>0</th>\n      <td>0</td>\n      <td>Queens Road</td>\n      <td>1675000</td>\n      <td>House</td>\n      <td>2716</td>\n      <td>5</td>\n      <td>5</td>\n      <td>5</td>\n      <td>Wimbledon</td>\n      <td>London</td>\n      <td>SW19 8NY</td>\n    </tr>\n    <tr>\n      <th>1</th>\n      <td>1</td>\n      <td>Seward Street</td>\n      <td>650000</td>\n      <td>Flat / Apartment</td>\n      <td>814</td>\n      <td>2</td>\n      <td>2</td>\n      <td>2</td>\n      <td>Clerkenwell</td>\n      <td>London</td>\n      <td>EC1V 3PA</td>\n    </tr>\n    <tr>\n      <th>2</th>\n      <td>2</td>\n      <td>Hotham Road</td>\n      <td>735000</td>\n      <td>Flat / Apartment</td>\n      <td>761</td>\n      <td>2</td>\n      <td>2</td>\n      <td>2</td>\n      <td>Putney</td>\n      <td>London</td>\n      <td>SW15 1QL</td>\n    </tr>\n    <tr>\n      <th>3</th>\n      <td>3</td>\n      <td>Festing Road</td>\n      <td>1765000</td>\n      <td>House</td>\n      <td>1986</td>\n      <td>4</td>\n      <td>4</td>\n      <td>4</td>\n      <td>Putney</td>\n      <td>London</td>\n      <td>SW15 1LP</td>\n    </tr>\n    <tr>\n      <th>4</th>\n      <td>4</td>\n      <td>Spencer Walk</td>\n      <td>675000</td>\n      <td>Flat / Apartment</td>\n      <td>700</td>\n      <td>2</td>\n      <td>2</td>\n      <td>2</td>\n      <td>Putney</td>\n      <td>London</td>\n      <td>SW15 1PL</td>\n    </tr>\n  </tbody>\n</table>\n</div>"
     },
     "execution_count": 3,
     "metadata": {},
     "output_type": "execute_result"
    }
   ],
   "source": [
    "df.head()\n"
   ]
  },
  {
   "cell_type": "code",
   "execution_count": 4,
   "id": "attended-covering",
   "metadata": {},
   "outputs": [
    {
     "name": "stdout",
     "output_type": "stream",
     "text": [
      "<class 'pandas.core.frame.DataFrame'>\n",
      "RangeIndex: 3480 entries, 0 to 3479\n",
      "Data columns (total 11 columns):\n",
      " #   Column             Non-Null Count  Dtype \n",
      "---  ------             --------------  ----- \n",
      " 0   Unnamed: 0         3480 non-null   int64 \n",
      " 1   Property Name      3480 non-null   object\n",
      " 2   Price              3480 non-null   int64 \n",
      " 3   House Type         3480 non-null   object\n",
      " 4   Area in sq ft      3480 non-null   int64 \n",
      " 5   No. of Bedrooms    3480 non-null   int64 \n",
      " 6   No. of Bathrooms   3480 non-null   int64 \n",
      " 7   No. of Receptions  3480 non-null   int64 \n",
      " 8   Location           2518 non-null   object\n",
      " 9   City/County        3480 non-null   object\n",
      " 10  Postal Code        3480 non-null   object\n",
      "dtypes: int64(6), object(5)\n",
      "memory usage: 299.2+ KB\n"
     ]
    }
   ],
   "source": [
    "df.info()"
   ]
  },
  {
   "cell_type": "code",
   "execution_count": 5,
   "id": "significant-passage",
   "metadata": {},
   "outputs": [
    {
     "data": {
      "text/plain": "                Unnamed: 0                Price        Area in sq ft  \\\ncount             3,480.00             3,480.00             3,480.00   \nmean              1,739.50         1,864,172.54             1,712.97   \nstd               1,004.73         2,267,282.96             1,364.26   \nmin                   0.00           180,000.00               274.00   \n25%                 869.75           750,000.00               834.00   \n50%               1,739.50         1,220,000.00             1,310.00   \n75%               2,609.25         2,150,000.00             2,157.25   \nmax               3,479.00        39,750,000.00            15,405.00   \n\n           No. of Bedrooms     No. of Bathrooms    No. of Receptions  \ncount             3,480.00             3,480.00             3,480.00  \nmean                  3.10                 3.10                 3.10  \nstd                   1.52                 1.52                 1.52  \nmin                   0.00                 0.00                 0.00  \n25%                   2.00                 2.00                 2.00  \n50%                   3.00                 3.00                 3.00  \n75%                   4.00                 4.00                 4.00  \nmax                  10.00                10.00                10.00  ",
      "text/html": "<div>\n<style scoped>\n    .dataframe tbody tr th:only-of-type {\n        vertical-align: middle;\n    }\n\n    .dataframe tbody tr th {\n        vertical-align: top;\n    }\n\n    .dataframe thead th {\n        text-align: right;\n    }\n</style>\n<table border=\"1\" class=\"dataframe\">\n  <thead>\n    <tr style=\"text-align: right;\">\n      <th></th>\n      <th>Unnamed: 0</th>\n      <th>Price</th>\n      <th>Area in sq ft</th>\n      <th>No. of Bedrooms</th>\n      <th>No. of Bathrooms</th>\n      <th>No. of Receptions</th>\n    </tr>\n  </thead>\n  <tbody>\n    <tr>\n      <th>count</th>\n      <td>3,480.00</td>\n      <td>3,480.00</td>\n      <td>3,480.00</td>\n      <td>3,480.00</td>\n      <td>3,480.00</td>\n      <td>3,480.00</td>\n    </tr>\n    <tr>\n      <th>mean</th>\n      <td>1,739.50</td>\n      <td>1,864,172.54</td>\n      <td>1,712.97</td>\n      <td>3.10</td>\n      <td>3.10</td>\n      <td>3.10</td>\n    </tr>\n    <tr>\n      <th>std</th>\n      <td>1,004.73</td>\n      <td>2,267,282.96</td>\n      <td>1,364.26</td>\n      <td>1.52</td>\n      <td>1.52</td>\n      <td>1.52</td>\n    </tr>\n    <tr>\n      <th>min</th>\n      <td>0.00</td>\n      <td>180,000.00</td>\n      <td>274.00</td>\n      <td>0.00</td>\n      <td>0.00</td>\n      <td>0.00</td>\n    </tr>\n    <tr>\n      <th>25%</th>\n      <td>869.75</td>\n      <td>750,000.00</td>\n      <td>834.00</td>\n      <td>2.00</td>\n      <td>2.00</td>\n      <td>2.00</td>\n    </tr>\n    <tr>\n      <th>50%</th>\n      <td>1,739.50</td>\n      <td>1,220,000.00</td>\n      <td>1,310.00</td>\n      <td>3.00</td>\n      <td>3.00</td>\n      <td>3.00</td>\n    </tr>\n    <tr>\n      <th>75%</th>\n      <td>2,609.25</td>\n      <td>2,150,000.00</td>\n      <td>2,157.25</td>\n      <td>4.00</td>\n      <td>4.00</td>\n      <td>4.00</td>\n    </tr>\n    <tr>\n      <th>max</th>\n      <td>3,479.00</td>\n      <td>39,750,000.00</td>\n      <td>15,405.00</td>\n      <td>10.00</td>\n      <td>10.00</td>\n      <td>10.00</td>\n    </tr>\n  </tbody>\n</table>\n</div>"
     },
     "execution_count": 5,
     "metadata": {},
     "output_type": "execute_result"
    }
   ],
   "source": [
    "df.describe()"
   ]
  },
  {
   "cell_type": "markdown",
   "id": "specified-spelling",
   "metadata": {},
   "source": [
    "## Remove Bathrooms and Receptions\n",
    "The number of bathrooms and receptions is a copy of the number of bedrooms, we are dropping them"
   ]
  },
  {
   "cell_type": "code",
   "execution_count": 6,
   "id": "endangered-press",
   "metadata": {},
   "outputs": [
    {
     "data": {
      "text/plain": "   Unnamed: 0  Property Name    Price        House Type  Area in sq ft  \\\n0           0    Queens Road  1675000             House           2716   \n1           1  Seward Street   650000  Flat / Apartment            814   \n2           2    Hotham Road   735000  Flat / Apartment            761   \n3           3   Festing Road  1765000             House           1986   \n4           4   Spencer Walk   675000  Flat / Apartment            700   \n\n   No. of Bedrooms     Location City/County Postal Code  \n0                5    Wimbledon      London    SW19 8NY  \n1                2  Clerkenwell      London    EC1V 3PA  \n2                2       Putney      London    SW15 1QL  \n3                4       Putney      London    SW15 1LP  \n4                2       Putney      London    SW15 1PL  ",
      "text/html": "<div>\n<style scoped>\n    .dataframe tbody tr th:only-of-type {\n        vertical-align: middle;\n    }\n\n    .dataframe tbody tr th {\n        vertical-align: top;\n    }\n\n    .dataframe thead th {\n        text-align: right;\n    }\n</style>\n<table border=\"1\" class=\"dataframe\">\n  <thead>\n    <tr style=\"text-align: right;\">\n      <th></th>\n      <th>Unnamed: 0</th>\n      <th>Property Name</th>\n      <th>Price</th>\n      <th>House Type</th>\n      <th>Area in sq ft</th>\n      <th>No. of Bedrooms</th>\n      <th>Location</th>\n      <th>City/County</th>\n      <th>Postal Code</th>\n    </tr>\n  </thead>\n  <tbody>\n    <tr>\n      <th>0</th>\n      <td>0</td>\n      <td>Queens Road</td>\n      <td>1675000</td>\n      <td>House</td>\n      <td>2716</td>\n      <td>5</td>\n      <td>Wimbledon</td>\n      <td>London</td>\n      <td>SW19 8NY</td>\n    </tr>\n    <tr>\n      <th>1</th>\n      <td>1</td>\n      <td>Seward Street</td>\n      <td>650000</td>\n      <td>Flat / Apartment</td>\n      <td>814</td>\n      <td>2</td>\n      <td>Clerkenwell</td>\n      <td>London</td>\n      <td>EC1V 3PA</td>\n    </tr>\n    <tr>\n      <th>2</th>\n      <td>2</td>\n      <td>Hotham Road</td>\n      <td>735000</td>\n      <td>Flat / Apartment</td>\n      <td>761</td>\n      <td>2</td>\n      <td>Putney</td>\n      <td>London</td>\n      <td>SW15 1QL</td>\n    </tr>\n    <tr>\n      <th>3</th>\n      <td>3</td>\n      <td>Festing Road</td>\n      <td>1765000</td>\n      <td>House</td>\n      <td>1986</td>\n      <td>4</td>\n      <td>Putney</td>\n      <td>London</td>\n      <td>SW15 1LP</td>\n    </tr>\n    <tr>\n      <th>4</th>\n      <td>4</td>\n      <td>Spencer Walk</td>\n      <td>675000</td>\n      <td>Flat / Apartment</td>\n      <td>700</td>\n      <td>2</td>\n      <td>Putney</td>\n      <td>London</td>\n      <td>SW15 1PL</td>\n    </tr>\n  </tbody>\n</table>\n</div>"
     },
     "execution_count": 6,
     "metadata": {},
     "output_type": "execute_result"
    }
   ],
   "source": [
    "df = df.drop('No. of Bathrooms',1)\n",
    "df = df.drop('No. of Receptions',1)\n",
    "df.head()"
   ]
  },
  {
   "cell_type": "code",
   "execution_count": 7,
   "id": "whole-factory",
   "metadata": {},
   "outputs": [
    {
     "data": {
      "text/plain": "Putney                  96\nBarnes                  71\nWandsworth              70\nWimbledon               68\nEsher                   64\n                        ..\n Orpington               1\nUpshirebury Green        1\nEnnismore Gardens        1\n91 City Road             1\n29 Sheffield Terrace     1\nName: Location, Length: 656, dtype: int64"
     },
     "execution_count": 7,
     "metadata": {},
     "output_type": "execute_result"
    }
   ],
   "source": [
    "df['Location'].value_counts()"
   ]
  },
  {
   "cell_type": "code",
   "execution_count": 8,
   "id": "constitutional-pasta",
   "metadata": {},
   "outputs": [
    {
     "data": {
      "text/plain": "London        2972\nSurrey         262\nMiddlesex       78\nEssex           62\nTwickenham      12\nName: City/County, dtype: int64"
     },
     "execution_count": 8,
     "metadata": {},
     "output_type": "execute_result"
    }
   ],
   "source": [
    "df['City/County'].value_counts().head()"
   ]
  },
  {
   "cell_type": "markdown",
   "id": "diagnostic-toner",
   "metadata": {},
   "source": [
    "### Dropping Location City/County columns\n",
    "The Location and City/County columns are not consistent (sometimes postcode is reported and things like that)\n",
    "Plus the location information is going to be provided by the postcode\n",
    "Plus removing Unnamed (just the index) and Property Name, which is useless for the prediction\n"
   ]
  },
  {
   "cell_type": "code",
   "execution_count": 9,
   "id": "latest-applicant",
   "metadata": {},
   "outputs": [],
   "source": [
    "df = df.drop('Location',1)\n",
    "df = df.drop('Unnamed: 0',1)\n",
    "df = df.drop('City/County',1)\n",
    "df = df.drop('Property Name',1)"
   ]
  },
  {
   "cell_type": "code",
   "execution_count": 10,
   "id": "constant-stomach",
   "metadata": {},
   "outputs": [
    {
     "data": {
      "text/plain": "     Price        House Type  Area in sq ft  No. of Bedrooms Postal Code\n0  1675000             House           2716                5    SW19 8NY\n1   650000  Flat / Apartment            814                2    EC1V 3PA\n2   735000  Flat / Apartment            761                2    SW15 1QL\n3  1765000             House           1986                4    SW15 1LP\n4   675000  Flat / Apartment            700                2    SW15 1PL",
      "text/html": "<div>\n<style scoped>\n    .dataframe tbody tr th:only-of-type {\n        vertical-align: middle;\n    }\n\n    .dataframe tbody tr th {\n        vertical-align: top;\n    }\n\n    .dataframe thead th {\n        text-align: right;\n    }\n</style>\n<table border=\"1\" class=\"dataframe\">\n  <thead>\n    <tr style=\"text-align: right;\">\n      <th></th>\n      <th>Price</th>\n      <th>House Type</th>\n      <th>Area in sq ft</th>\n      <th>No. of Bedrooms</th>\n      <th>Postal Code</th>\n    </tr>\n  </thead>\n  <tbody>\n    <tr>\n      <th>0</th>\n      <td>1675000</td>\n      <td>House</td>\n      <td>2716</td>\n      <td>5</td>\n      <td>SW19 8NY</td>\n    </tr>\n    <tr>\n      <th>1</th>\n      <td>650000</td>\n      <td>Flat / Apartment</td>\n      <td>814</td>\n      <td>2</td>\n      <td>EC1V 3PA</td>\n    </tr>\n    <tr>\n      <th>2</th>\n      <td>735000</td>\n      <td>Flat / Apartment</td>\n      <td>761</td>\n      <td>2</td>\n      <td>SW15 1QL</td>\n    </tr>\n    <tr>\n      <th>3</th>\n      <td>1765000</td>\n      <td>House</td>\n      <td>1986</td>\n      <td>4</td>\n      <td>SW15 1LP</td>\n    </tr>\n    <tr>\n      <th>4</th>\n      <td>675000</td>\n      <td>Flat / Apartment</td>\n      <td>700</td>\n      <td>2</td>\n      <td>SW15 1PL</td>\n    </tr>\n  </tbody>\n</table>\n</div>"
     },
     "execution_count": 10,
     "metadata": {},
     "output_type": "execute_result"
    }
   ],
   "source": [
    "df.head()"
   ]
  },
  {
   "cell_type": "markdown",
   "id": "virgin-turkish",
   "metadata": {},
   "source": [
    "### Modifying postcode \n",
    "The last two chars of the postcode represent the unit and it is too granular. We are going to loose them to represent the subdistrict only"
   ]
  },
  {
   "cell_type": "code",
   "execution_count": 11,
   "id": "expanded-cattle",
   "metadata": {},
   "outputs": [],
   "source": [
    "df['Postal Code Norm'] = df['Postal Code'].transform(lambda x: x[:-2].replace(\" \",''))"
   ]
  },
  {
   "cell_type": "markdown",
   "id": "civil-relevance",
   "metadata": {
    "pycharm": {
     "name": "#%% md\n"
    }
   },
   "source": [
    "### Categorising Postal Code and House Type and creating a category only column for both"
   ]
  },
  {
   "cell_type": "code",
   "execution_count": 12,
   "id": "scheduled-bread",
   "metadata": {},
   "outputs": [],
   "source": [
    "df[\"Postal Code Norm\"] = pd.Categorical(df['Postal Code Norm'])\n",
    "df['House Type'] = pd.Categorical(df['House Type'])\n",
    "df['Postcode cat'] = df[\"Postal Code Norm\"].cat.codes\n",
    "df['Type cat'] = df['House Type'].cat.codes"
   ]
  },
  {
   "cell_type": "code",
   "execution_count": 13,
   "id": "weekly-edinburgh",
   "metadata": {
    "pycharm": {
     "name": "#%%\n"
    }
   },
   "outputs": [
    {
     "data": {
      "text/plain": "array([[<AxesSubplot:title={'center':'Price'}>,\n        <AxesSubplot:title={'center':'Area in sq ft'}>],\n       [<AxesSubplot:title={'center':'No. of Bedrooms'}>,\n        <AxesSubplot:title={'center':'Postcode cat'}>],\n       [<AxesSubplot:title={'center':'Type cat'}>, <AxesSubplot:>]],\n      dtype=object)"
     },
     "execution_count": 13,
     "metadata": {},
     "output_type": "execute_result"
    },
    {
     "data": {
      "text/plain": "<Figure size 720x720 with 6 Axes>",
      "image/png": "[encoded data removed]"
     },
     "metadata": {
      "needs_background": "light"
     },
     "output_type": "display_data"
    }
   ],
   "source": [
    "df.hist(bins=15,figsize=(10,10))"
   ]
  },
  {
   "cell_type": "code",
   "execution_count": 14,
   "id": "bronze-plain",
   "metadata": {
    "scrolled": true
   },
   "outputs": [
    {
     "data": {
      "text/plain": "<AxesSubplot:>"
     },
     "execution_count": 14,
     "metadata": {},
     "output_type": "execute_result"
    },
    {
     "data": {
      "text/plain": "<Figure size 432x288 with 1 Axes>",
      "image/png": "[encoded data removed]"
     },
     "metadata": {
      "needs_background": "light"
     },
     "output_type": "display_data"
    }
   ],
   "source": [
    "df['House Type'].value_counts().plot.bar()"
   ]
  },
  {
   "cell_type": "markdown",
   "id": "controversial-pierre",
   "metadata": {
    "pycharm": {
     "name": "#%% md\n"
    }
   },
   "source": [
    "### Correlation matrix for the price"
   ]
  },
  {
   "cell_type": "code",
   "execution_count": 15,
   "id": "radical-daughter",
   "metadata": {},
   "outputs": [
    {
     "data": {
      "text/plain": "Price                             1.00\nArea in sq ft                     0.67\nNo. of Bedrooms                   0.44\nPostcode cat                      0.18\nType cat                          0.18\nName: Price, dtype: float64"
     },
     "execution_count": 15,
     "metadata": {},
     "output_type": "execute_result"
    }
   ],
   "source": [
    "df.corr()['Price']"
   ]
  },
  {
   "cell_type": "markdown",
   "id": "ignored-evidence",
   "metadata": {
    "pycharm": {
     "name": "#%% md\n"
    }
   },
   "source": [
    "### 75% of the postcode have max 10 house prices. This means that the postcode can't be used effectively for the prediction?"
   ]
  },
  {
   "cell_type": "code",
   "execution_count": 16,
   "id": "polar-details",
   "metadata": {},
   "outputs": [
    {
     "data": {
      "text/plain": "                     Price           House Type        Area in sq ft  \\\ncount               450.00               450.00               450.00   \nmean                  7.73                 7.73                 7.73   \nstd                   9.75                 9.75                 9.75   \nmin                   1.00                 1.00                 1.00   \n25%                   2.00                 2.00                 2.00   \n50%                   4.00                 4.00                 4.00   \n75%                  10.00                10.00                10.00   \nmax                  75.00                75.00                75.00   \n\n           No. of Bedrooms          Postal Code         Postcode cat  \\\ncount               450.00               450.00               450.00   \nmean                  7.73                 7.73                 7.73   \nstd                   9.75                 9.75                 9.75   \nmin                   1.00                 1.00                 1.00   \n25%                   2.00                 2.00                 2.00   \n50%                   4.00                 4.00                 4.00   \n75%                  10.00                10.00                10.00   \nmax                  75.00                75.00                75.00   \n\n                  Type cat  \ncount               450.00  \nmean                  7.73  \nstd                   9.75  \nmin                   1.00  \n25%                   2.00  \n50%                   4.00  \n75%                  10.00  \nmax                  75.00  ",
      "text/html": "<div>\n<style scoped>\n    .dataframe tbody tr th:only-of-type {\n        vertical-align: middle;\n    }\n\n    .dataframe tbody tr th {\n        vertical-align: top;\n    }\n\n    .dataframe thead th {\n        text-align: right;\n    }\n</style>\n<table border=\"1\" class=\"dataframe\">\n  <thead>\n    <tr style=\"text-align: right;\">\n      <th></th>\n      <th>Price</th>\n      <th>House Type</th>\n      <th>Area in sq ft</th>\n      <th>No. of Bedrooms</th>\n      <th>Postal Code</th>\n      <th>Postcode cat</th>\n      <th>Type cat</th>\n    </tr>\n  </thead>\n  <tbody>\n    <tr>\n      <th>count</th>\n      <td>450.00</td>\n      <td>450.00</td>\n      <td>450.00</td>\n      <td>450.00</td>\n      <td>450.00</td>\n      <td>450.00</td>\n      <td>450.00</td>\n    </tr>\n    <tr>\n      <th>mean</th>\n      <td>7.73</td>\n      <td>7.73</td>\n      <td>7.73</td>\n      <td>7.73</td>\n      <td>7.73</td>\n      <td>7.73</td>\n      <td>7.73</td>\n    </tr>\n    <tr>\n      <th>std</th>\n      <td>9.75</td>\n      <td>9.75</td>\n      <td>9.75</td>\n      <td>9.75</td>\n      <td>9.75</td>\n      <td>9.75</td>\n      <td>9.75</td>\n    </tr>\n    <tr>\n      <th>min</th>\n      <td>1.00</td>\n      <td>1.00</td>\n      <td>1.00</td>\n      <td>1.00</td>\n      <td>1.00</td>\n      <td>1.00</td>\n      <td>1.00</td>\n    </tr>\n    <tr>\n      <th>25%</th>\n      <td>2.00</td>\n      <td>2.00</td>\n      <td>2.00</td>\n      <td>2.00</td>\n      <td>2.00</td>\n      <td>2.00</td>\n      <td>2.00</td>\n    </tr>\n    <tr>\n      <th>50%</th>\n      <td>4.00</td>\n      <td>4.00</td>\n      <td>4.00</td>\n      <td>4.00</td>\n      <td>4.00</td>\n      <td>4.00</td>\n      <td>4.00</td>\n    </tr>\n    <tr>\n      <th>75%</th>\n      <td>10.00</td>\n      <td>10.00</td>\n      <td>10.00</td>\n      <td>10.00</td>\n      <td>10.00</td>\n      <td>10.00</td>\n      <td>10.00</td>\n    </tr>\n    <tr>\n      <th>max</th>\n      <td>75.00</td>\n      <td>75.00</td>\n      <td>75.00</td>\n      <td>75.00</td>\n      <td>75.00</td>\n      <td>75.00</td>\n      <td>75.00</td>\n    </tr>\n  </tbody>\n</table>\n</div>"
     },
     "execution_count": 16,
     "metadata": {},
     "output_type": "execute_result"
    }
   ],
   "source": [
    "df.groupby(by=\"Postal Code Norm\").count().describe()"
   ]
  },
  {
   "cell_type": "code",
   "execution_count": 17,
   "id": "warming-compatibility",
   "metadata": {},
   "outputs": [
    {
     "data": {
      "text/plain": "        Price        House Type  Area in sq ft  No. of Bedrooms Postal Code  \\\n0     1675000             House           2716                5    SW19 8NY   \n1      650000  Flat / Apartment            814                2    EC1V 3PA   \n2      735000  Flat / Apartment            761                2    SW15 1QL   \n3     1765000             House           1986                4    SW15 1LP   \n4      675000  Flat / Apartment            700                2    SW15 1PL   \n...       ...               ...            ...              ...         ...   \n3475  3350000   New development           1410                3     SW6 1UE   \n3476  5275000  Flat / Apartment           1749                3    SW1A 1JT   \n3477  5995000             House           4435                6    NW11 6TG   \n3478  6300000   New development           1506                3     W1S 3AR   \n3479  8650000             House           5395                6      N6 4LP   \n\n     Postal Code Norm  Postcode cat  Type cat  \n0               SW198           260         3  \n1               EC1V3            58         2  \n2               SW151           234         2  \n3               SW151           234         3  \n4               SW151           234         2  \n...               ...           ...       ...  \n3475             SW61           301         5  \n3476            SW1A1           261         2  \n3477            NW116           154         3  \n3478             W1S3           381         5  \n3479              N64           140         3  \n\n[3480 rows x 8 columns]",
      "text/html": "<div>\n<style scoped>\n    .dataframe tbody tr th:only-of-type {\n        vertical-align: middle;\n    }\n\n    .dataframe tbody tr th {\n        vertical-align: top;\n    }\n\n    .dataframe thead th {\n        text-align: right;\n    }\n</style>\n<table border=\"1\" class=\"dataframe\">\n  <thead>\n    <tr style=\"text-align: right;\">\n      <th></th>\n      <th>Price</th>\n      <th>House Type</th>\n      <th>Area in sq ft</th>\n      <th>No. of Bedrooms</th>\n      <th>Postal Code</th>\n      <th>Postal Code Norm</th>\n      <th>Postcode cat</th>\n      <th>Type cat</th>\n    </tr>\n  </thead>\n  <tbody>\n    <tr>\n      <th>0</th>\n      <td>1675000</td>\n      <td>House</td>\n      <td>2716</td>\n      <td>5</td>\n      <td>SW19 8NY</td>\n      <td>SW198</td>\n      <td>260</td>\n      <td>3</td>\n    </tr>\n    <tr>\n      <th>1</th>\n      <td>650000</td>\n      <td>Flat / Apartment</td>\n      <td>814</td>\n      <td>2</td>\n      <td>EC1V 3PA</td>\n      <td>EC1V3</td>\n      <td>58</td>\n      <td>2</td>\n    </tr>\n    <tr>\n      <th>2</th>\n      <td>735000</td>\n      <td>Flat / Apartment</td>\n      <td>761</td>\n      <td>2</td>\n      <td>SW15 1QL</td>\n      <td>SW151</td>\n      <td>234</td>\n      <td>2</td>\n    </tr>\n    <tr>\n      <th>3</th>\n      <td>1765000</td>\n      <td>House</td>\n      <td>1986</td>\n      <td>4</td>\n      <td>SW15 1LP</td>\n      <td>SW151</td>\n      <td>234</td>\n      <td>3</td>\n    </tr>\n    <tr>\n      <th>4</th>\n      <td>675000</td>\n      <td>Flat / Apartment</td>\n      <td>700</td>\n      <td>2</td>\n      <td>SW15 1PL</td>\n      <td>SW151</td>\n      <td>234</td>\n      <td>2</td>\n    </tr>\n    <tr>\n      <th>...</th>\n      <td>...</td>\n      <td>...</td>\n      <td>...</td>\n      <td>...</td>\n      <td>...</td>\n      <td>...</td>\n      <td>...</td>\n      <td>...</td>\n    </tr>\n    <tr>\n      <th>3475</th>\n      <td>3350000</td>\n      <td>New development</td>\n      <td>1410</td>\n      <td>3</td>\n      <td>SW6 1UE</td>\n      <td>SW61</td>\n      <td>301</td>\n      <td>5</td>\n    </tr>\n    <tr>\n      <th>3476</th>\n      <td>5275000</td>\n      <td>Flat / Apartment</td>\n      <td>1749</td>\n      <td>3</td>\n      <td>SW1A 1JT</td>\n      <td>SW1A1</td>\n      <td>261</td>\n      <td>2</td>\n    </tr>\n    <tr>\n      <th>3477</th>\n      <td>5995000</td>\n      <td>House</td>\n      <td>4435</td>\n      <td>6</td>\n      <td>NW11 6TG</td>\n      <td>NW116</td>\n      <td>154</td>\n      <td>3</td>\n    </tr>\n    <tr>\n      <th>3478</th>\n      <td>6300000</td>\n      <td>New development</td>\n      <td>1506</td>\n      <td>3</td>\n      <td>W1S 3AR</td>\n      <td>W1S3</td>\n      <td>381</td>\n      <td>5</td>\n    </tr>\n    <tr>\n      <th>3479</th>\n      <td>8650000</td>\n      <td>House</td>\n      <td>5395</td>\n      <td>6</td>\n      <td>N6 4LP</td>\n      <td>N64</td>\n      <td>140</td>\n      <td>3</td>\n    </tr>\n  </tbody>\n</table>\n<p>3480 rows × 8 columns</p>\n</div>"
     },
     "execution_count": 17,
     "metadata": {},
     "output_type": "execute_result"
    }
   ],
   "source": [
    "df"
   ]
  },
  {
   "cell_type": "markdown",
   "id": "needed-affairs",
   "metadata": {
    "pycharm": {
     "name": "#%% md\n"
    }
   },
   "source": [
    "### Select only the columns for the prediction"
   ]
  },
  {
   "cell_type": "code",
   "execution_count": 18,
   "id": "excessive-annex",
   "metadata": {},
   "outputs": [],
   "source": [
    "X = df[['Area in sq ft',\"No. of Bedrooms\",\"Postcode cat\",\"Type cat\"]]"
   ]
  },
  {
   "cell_type": "code",
   "execution_count": 19,
   "id": "introductory-turning",
   "metadata": {},
   "outputs": [],
   "source": [
    "Y = df[['Price']]"
   ]
  },
  {
   "cell_type": "code",
   "execution_count": 20,
   "id": "affecting-duncan",
   "metadata": {},
   "outputs": [
    {
     "data": {
      "text/plain": "(      Area in sq ft  No. of Bedrooms  Postcode cat  Type cat\n 0              2716                5           260         3\n 1               814                2            58         2\n 2               761                2           234         2\n 3              1986                4           234         3\n 4               700                2           234         2\n ...             ...              ...           ...       ...\n 3475           1410                3           301         5\n 3476           1749                3           261         2\n 3477           4435                6           154         3\n 3478           1506                3           381         5\n 3479           5395                6           140         3\n \n [3480 rows x 4 columns],\n         Price\n 0     1675000\n 1      650000\n 2      735000\n 3     1765000\n 4      675000\n ...       ...\n 3475  3350000\n 3476  5275000\n 3477  5995000\n 3478  6300000\n 3479  8650000\n \n [3480 rows x 1 columns])"
     },
     "execution_count": 20,
     "metadata": {},
     "output_type": "execute_result"
    }
   ],
   "source": [
    "X,Y"
   ]
  },
  {
   "cell_type": "code",
   "execution_count": 21,
   "id": "treated-think",
   "metadata": {},
   "outputs": [],
   "source": [
    "X_train,X_test,Y_train,Y_test = train_test_split(X,Y,test_size=0.2, random_state=42)"
   ]
  },
  {
   "cell_type": "code",
   "execution_count": 22,
   "id": "toxic-penguin",
   "metadata": {},
   "outputs": [
    {
     "data": {
      "text/plain": "{'Linear Regression': {'MEAN': 2761942880149.65, 'STD': 3000081947474.324},\n 'Random Forest Regressor': {'MEAN': 1735182844608.2007,\n  'STD': 1947867937824.3225},\n 'Lasso': {'MEAN': 2761943064790.708, 'STD': 3000083539317.799},\n 'SVR': {'MEAN': 5562312797334.889, 'STD': 6450868321214.545},\n 'Ridge': {'MEAN': 2761937857865.355, 'STD': 3000181671794.711}}"
     },
     "execution_count": 22,
     "metadata": {},
     "output_type": "execute_result"
    }
   ],
   "source": [
    "algorithms = {'Linear Regression':LinearRegression(),\n",
    "             'Random Forest Regressor':RandomForestRegressor(),\n",
    "             'Lasso':Lasso(),\n",
    "             'SVR':SVR(),\n",
    "             'Ridge':Ridge()}\n",
    "scoring = {}\n",
    "for model_name,model in algorithms.items():\n",
    "    # y.fit(X_train,Y_train)\n",
    "    scores = cross_val_score(model,X,Y.values.ravel(),cv=10,scoring='neg_mean_squared_error')\n",
    "    scoring[model_name] = {'MEAN':-scores.mean(),\"STD\":scores.std()}\n",
    "\n",
    "scoring"
   ]
  },
  {
   "cell_type": "markdown",
   "id": "spare-supplement",
   "metadata": {
    "pycharm": {
     "name": "#%% md\n"
    }
   },
   "source": [
    "### Random Forest Regressor is the candidate\n",
    "### Trying it on the training set"
   ]
  },
  {
   "cell_type": "code",
   "execution_count": 23,
   "id": "filled-subdivision",
   "metadata": {},
   "outputs": [
    {
     "name": "stderr",
     "output_type": "stream",
     "text": [
      "<ipython-input-23-44754e635564>:2: DataConversionWarning: A column-vector y was passed when a 1d array was expected. Please change the shape of y to (n_samples,), for example using ravel().\n",
      "  model.fit(X,Y)\n"
     ]
    },
    {
     "name": "stdout",
     "output_type": "stream",
     "text": [
      "SQUARE MEAN ERROR OF TRAINING SET: 207519220981.0325\n",
      "MEAN SQUARE MEAN ERROR OF KFOLDS: 1735182844608.2007\n"
     ]
    }
   ],
   "source": [
    "model = RandomForestRegressor()\n",
    "model.fit(X,Y)\n",
    "\n",
    "print(\"SQUARE MEAN ERROR OF TRAINING SET: \"+str(mean_squared_error(model.predict(X),Y)))\n",
    "print(\"MEAN SQUARE MEAN ERROR OF KFOLDS: \"+str(scoring['Random Forest Regressor']['MEAN']))"
   ]
  },
  {
   "cell_type": "markdown",
   "source": [
    "### The model doesn't overfit the training set"
   ],
   "metadata": {
    "collapsed": false,
    "pycharm": {
     "name": "#%% md\n"
    }
   }
  },
  {
   "cell_type": "markdown",
   "id": "international-latino",
   "metadata": {
    "pycharm": {
     "name": "#%% md\n"
    }
   },
   "source": [
    "Grid Search CV for hyperparameter tuning"
   ]
  },
  {
   "cell_type": "code",
   "execution_count": 27,
   "outputs": [
    {
     "data": {
      "text/plain": "GridSearchCV(cv=5, estimator=RandomForestRegressor(),\n             param_grid=[{'max_features': [1, 2, 3, 4],\n                          'n_estimators': [3, 10, 30]},\n                         {'bootstrap': [False], 'max_features': [1, 2, 3, 4],\n                          'n_estimators': [3, 10]}],\n             scoring='neg_mean_squared_error')"
     },
     "execution_count": 27,
     "metadata": {},
     "output_type": "execute_result"
    }
   ],
   "source": [
    "model = RandomForestRegressor()\n",
    "param_grid = [{'n_estimators':[3,10,30],'max_features':[1,2,3,4]},\n",
    "              {'bootstrap':[False],'n_estimators':[3,10],'max_features':[1,2,3,4]}\n",
    "              ]\n",
    "grid_search = GridSearchCV(model,param_grid,cv=5,scoring='neg_mean_squared_error')\n",
    "grid_search.fit(X,Y.values.ravel())"
   ],
   "metadata": {
    "collapsed": false,
    "pycharm": {
     "name": "#%%\n"
    }
   }
  },
  {
   "cell_type": "code",
   "execution_count": 38,
   "outputs": [
    {
     "data": {
      "text/plain": "[({'max_features': 1, 'n_estimators': 3}, 2471120880899.688),\n ({'max_features': 1, 'n_estimators': 10}, 2142390745210.763),\n ({'max_features': 1, 'n_estimators': 30}, 2051031477507.0688),\n ({'max_features': 2, 'n_estimators': 3}, 2224874630843.344),\n ({'max_features': 2, 'n_estimators': 10}, 2010890222358.7585),\n ({'max_features': 2, 'n_estimators': 30}, 1922014959927.8735),\n ({'max_features': 3, 'n_estimators': 3}, 2191390767641.9277),\n ({'max_features': 3, 'n_estimators': 10}, 1981640390566.8022),\n ({'max_features': 3, 'n_estimators': 30}, 1874218764887.532),\n ({'max_features': 4, 'n_estimators': 3}, 2170164413627.118),\n ({'max_features': 4, 'n_estimators': 10}, 1932345871418.321),\n ({'max_features': 4, 'n_estimators': 30}, 1888811532755.786),\n ({'bootstrap': False, 'max_features': 1, 'n_estimators': 3},\n  2300767317466.837),\n ({'bootstrap': False, 'max_features': 1, 'n_estimators': 10},\n  2020570760567.6086),\n ({'bootstrap': False, 'max_features': 2, 'n_estimators': 3},\n  2174981769513.3179),\n ({'bootstrap': False, 'max_features': 2, 'n_estimators': 10},\n  1903751388105.484),\n ({'bootstrap': False, 'max_features': 3, 'n_estimators': 3},\n  2110931699165.3618),\n ({'bootstrap': False, 'max_features': 3, 'n_estimators': 10},\n  2038540819783.707),\n ({'bootstrap': False, 'max_features': 4, 'n_estimators': 3},\n  2874459769633.798),\n ({'bootstrap': False, 'max_features': 4, 'n_estimators': 10},\n  2926746313527.6787)]"
     },
     "execution_count": 38,
     "metadata": {},
     "output_type": "execute_result"
    }
   ],
   "source": [
    "grid_search.best_params_\n",
    "best_model = grid_search.best_estimator_\n",
    "list(zip(grid_search.cv_results_['params'],-grid_search.cv_results_['mean_test_score']))"
   ],
   "metadata": {
    "collapsed": false,
    "pycharm": {
     "name": "#%%\n"
    }
   }
  },
  {
   "cell_type": "markdown",
   "source": [
    "### Best params scores"
   ],
   "metadata": {
    "collapsed": false,
    "pycharm": {
     "name": "#%% md\n"
    }
   }
  },
  {
   "cell_type": "code",
   "execution_count": 39,
   "outputs": [
    {
     "data": {
      "text/plain": "221722887389.06107"
     },
     "execution_count": 39,
     "metadata": {},
     "output_type": "execute_result"
    }
   ],
   "source": [
    "mean_squared_error(best_model.predict(X),Y)"
   ],
   "metadata": {
    "collapsed": false,
    "pycharm": {
     "name": "#%%\n"
    }
   }
  },
  {
   "cell_type": "markdown",
   "source": [
    "Analyze the feature importance"
   ],
   "metadata": {
    "collapsed": false,
    "pycharm": {
     "name": "#%% md\n"
    }
   }
  },
  {
   "cell_type": "code",
   "execution_count": 41,
   "outputs": [
    {
     "data": {
      "text/plain": "array([0.59841757, 0.08321532, 0.2495762 , 0.0687909 ])"
     },
     "execution_count": 41,
     "metadata": {},
     "output_type": "execute_result"
    }
   ],
   "source": [
    "best_model.feature_importances_"
   ],
   "metadata": {
    "collapsed": false,
    "pycharm": {
     "name": "#%%\n"
    }
   }
  },
  {
   "cell_type": "code",
   "execution_count": 44,
   "outputs": [
    {
     "ename": "AttributeError",
     "evalue": "'DataFrame' object has no attribute 'labels'",
     "output_type": "error",
     "traceback": [
      "\u001B[0;31m---------------------------------------------------------------------------\u001B[0m",
      "\u001B[0;31mAttributeError\u001B[0m                            Traceback (most recent call last)",
      "\u001B[0;32m<ipython-input-44-3dcb9ed0c5fd>\u001B[0m in \u001B[0;36m<module>\u001B[0;34m\u001B[0m\n\u001B[0;32m----> 1\u001B[0;31m \u001B[0mX\u001B[0m\u001B[0;34m.\u001B[0m\u001B[0mlabels\u001B[0m\u001B[0;34m\u001B[0m\u001B[0;34m\u001B[0m\u001B[0m\n\u001B[0m\u001B[1;32m      2\u001B[0m \u001B[0;34m\u001B[0m\u001B[0m\n\u001B[1;32m      3\u001B[0m \u001B[0;34m\u001B[0m\u001B[0m\n",
      "\u001B[0;32m~/Projects/MachineLearningCourse/london_price/env/lib/python3.8/site-packages/pandas/core/generic.py\u001B[0m in \u001B[0;36m__getattr__\u001B[0;34m(self, name)\u001B[0m\n\u001B[1;32m   5460\u001B[0m             \u001B[0;32mif\u001B[0m \u001B[0mself\u001B[0m\u001B[0;34m.\u001B[0m\u001B[0m_info_axis\u001B[0m\u001B[0;34m.\u001B[0m\u001B[0m_can_hold_identifiers_and_holds_name\u001B[0m\u001B[0;34m(\u001B[0m\u001B[0mname\u001B[0m\u001B[0;34m)\u001B[0m\u001B[0;34m:\u001B[0m\u001B[0;34m\u001B[0m\u001B[0;34m\u001B[0m\u001B[0m\n\u001B[1;32m   5461\u001B[0m                 \u001B[0;32mreturn\u001B[0m \u001B[0mself\u001B[0m\u001B[0;34m[\u001B[0m\u001B[0mname\u001B[0m\u001B[0;34m]\u001B[0m\u001B[0;34m\u001B[0m\u001B[0;34m\u001B[0m\u001B[0m\n\u001B[0;32m-> 5462\u001B[0;31m             \u001B[0;32mreturn\u001B[0m \u001B[0mobject\u001B[0m\u001B[0;34m.\u001B[0m\u001B[0m__getattribute__\u001B[0m\u001B[0;34m(\u001B[0m\u001B[0mself\u001B[0m\u001B[0;34m,\u001B[0m \u001B[0mname\u001B[0m\u001B[0;34m)\u001B[0m\u001B[0;34m\u001B[0m\u001B[0;34m\u001B[0m\u001B[0m\n\u001B[0m\u001B[1;32m   5463\u001B[0m \u001B[0;34m\u001B[0m\u001B[0m\n\u001B[1;32m   5464\u001B[0m     \u001B[0;32mdef\u001B[0m \u001B[0m__setattr__\u001B[0m\u001B[0;34m(\u001B[0m\u001B[0mself\u001B[0m\u001B[0;34m,\u001B[0m \u001B[0mname\u001B[0m\u001B[0;34m:\u001B[0m \u001B[0mstr\u001B[0m\u001B[0;34m,\u001B[0m \u001B[0mvalue\u001B[0m\u001B[0;34m)\u001B[0m \u001B[0;34m->\u001B[0m \u001B[0;32mNone\u001B[0m\u001B[0;34m:\u001B[0m\u001B[0;34m\u001B[0m\u001B[0;34m\u001B[0m\u001B[0m\n",
      "\u001B[0;31mAttributeError\u001B[0m: 'DataFrame' object has no attribute 'labels'"
     ]
    }
   ],
   "source": [
    "X.labels\n"
   ],
   "metadata": {
    "collapsed": false,
    "pycharm": {
     "name": "#%%\n"
    }
   }
  },
  {
   "cell_type": "code",
   "execution_count": 48,
   "outputs": [
    {
     "data": {
      "text/plain": "[('Area in sq ft', 0.5984175707068545),\n ('No. of Bedrooms', 0.08321532160024384),\n ('Postcode cat', 0.24957620465552194),\n ('Type cat', 0.06879090303737984)]"
     },
     "execution_count": 48,
     "metadata": {},
     "output_type": "execute_result"
    }
   ],
   "source": [
    "list(zip(X.columns.values,best_model.feature_importances_))"
   ],
   "metadata": {
    "collapsed": false,
    "pycharm": {
     "name": "#%%\n"
    }
   }
  },
  {
   "cell_type": "code",
   "execution_count": 58,
   "outputs": [
    {
     "data": {
      "text/plain": "['Bungalow',\n 'Duplex',\n 'Flat / Apartment',\n 'House',\n 'Mews',\n 'New development',\n 'Penthouse',\n 'Studio']"
     },
     "execution_count": 58,
     "metadata": {},
     "output_type": "execute_result"
    }
   ],
   "source": [
    "list(df['House Type'].cat.categories.values)"
   ],
   "metadata": {
    "collapsed": false,
    "pycharm": {
     "name": "#%%\n"
    }
   }
  },
  {
   "cell_type": "code",
   "execution_count": 61,
   "outputs": [],
   "source": [
    "def predict_house_price(sqft,num_bed,postcode,type):\n",
    "    type_cat = list(df['House Type'].cat.categories.values).index(type)\n",
    "    postcode_cat = list(df['Postal Code Norm'].cat.categories.values).index(postcode)\n",
    "    return best_model.predict([[sqft,num_bed,postcode_cat,type_cat]])"
   ],
   "metadata": {
    "collapsed": false,
    "pycharm": {
     "name": "#%%\n"
    }
   }
  },
  {
   "cell_type": "code",
   "execution_count": 71,
   "outputs": [
    {
     "data": {
      "text/plain": "array([788161.66666667])"
     },
     "execution_count": 71,
     "metadata": {},
     "output_type": "execute_result"
    }
   ],
   "source": [
    "predict_house_price(950,3,'SW151','Flat / Apartment')\n"
   ],
   "metadata": {
    "collapsed": false,
    "pycharm": {
     "name": "#%%\n"
    }
   }
  },
  {
   "cell_type": "code",
   "execution_count": null,
   "outputs": [],
   "source": [
    "\n"
   ],
   "metadata": {
    "collapsed": false,
    "pycharm": {
     "name": "#%%\n"
    }
   }
  }
 ],
 "metadata": {
  "kernelspec": {
   "name": "pycharm-a843966d",
   "language": "python",
   "display_name": "PyCharm (london_price)"
  },
  "language_info": {
   "codemirror_mode": {
    "name": "ipython",
    "version": 3
   },
   "file_extension": ".py",
   "mimetype": "text/x-python",
   "name": "python",
   "nbconvert_exporter": "python",
   "pygments_lexer": "ipython3",
   "version": "3.8.5"
  }
 },
 "nbformat": 4,
 "nbformat_minor": 5
}